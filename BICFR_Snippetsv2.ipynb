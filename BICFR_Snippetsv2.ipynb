{
  "nbformat": 4,
  "nbformat_minor": 0,
  "metadata": {
    "colab": {
      "name": "BICFR Snippetsv2.ipynb",
      "provenance": [],
      "collapsed_sections": [],
      "authorship_tag": "ABX9TyOIIGSCHu+UiIXgfw4pGaKB",
      "include_colab_link": true
    },
    "kernelspec": {
      "name": "python3",
      "display_name": "Python 3"
    },
    "language_info": {
      "name": "python"
    }
  },
  "cells": [
    {
      "cell_type": "markdown",
      "metadata": {
        "id": "view-in-github",
        "colab_type": "text"
      },
      "source": [
        "<a href=\"https://colab.research.google.com/github/justinballas/WorkAutomation/blob/main/BICFR_Snippetsv2.ipynb\" target=\"_parent\"><img src=\"https://colab.research.google.com/assets/colab-badge.svg\" alt=\"Open In Colab\"/></a>"
      ]
    },
    {
      "cell_type": "markdown",
      "metadata": {
        "id": "HgdIdBxL-VzX"
      },
      "source": [
        "This notebook is used as a repository of various blocks of code to be used in the Best In Class Fund Review (BICFR) workflow. This notebook is broken down into the following sections:\n",
        "\n",
        "1. Importing the appropriate files\n",
        "\n",
        "2. Data Cleaning\n",
        "\n",
        "3. Carrier Subaccount Analysis and Rankings\n",
        "\n",
        "4. Best in Class Fund Selection\n",
        "\n",
        "5. Excel Reporting"
      ]
    },
    {
      "cell_type": "code",
      "metadata": {
        "colab": {
          "base_uri": "https://localhost:8080/"
        },
        "id": "Syja6iC6-Nol",
        "outputId": "f1888691-1090-499d-c1e5-1d8d0e195c9a"
      },
      "source": [
        "!pip install xlsxwriter"
      ],
      "execution_count": 1,
      "outputs": [
        {
          "output_type": "stream",
          "text": [
            "Collecting xlsxwriter\n",
            "\u001b[?25l  Downloading https://files.pythonhosted.org/packages/2c/ce/74fd8d638a5b82ea0c6f08a5978f741c2655a38c3d6e82f73a0f084377e6/XlsxWriter-1.4.3-py2.py3-none-any.whl (149kB)\n",
            "\r\u001b[K     |██▏                             | 10kB 18.5MB/s eta 0:00:01\r\u001b[K     |████▍                           | 20kB 25.3MB/s eta 0:00:01\r\u001b[K     |██████▋                         | 30kB 27.8MB/s eta 0:00:01\r\u001b[K     |████████▊                       | 40kB 29.5MB/s eta 0:00:01\r\u001b[K     |███████████                     | 51kB 32.3MB/s eta 0:00:01\r\u001b[K     |█████████████▏                  | 61kB 30.1MB/s eta 0:00:01\r\u001b[K     |███████████████▍                | 71kB 28.1MB/s eta 0:00:01\r\u001b[K     |█████████████████▌              | 81kB 29.1MB/s eta 0:00:01\r\u001b[K     |███████████████████▊            | 92kB 27.9MB/s eta 0:00:01\r\u001b[K     |██████████████████████          | 102kB 29.3MB/s eta 0:00:01\r\u001b[K     |████████████████████████▏       | 112kB 29.3MB/s eta 0:00:01\r\u001b[K     |██████████████████████████▎     | 122kB 29.3MB/s eta 0:00:01\r\u001b[K     |████████████████████████████▌   | 133kB 29.3MB/s eta 0:00:01\r\u001b[K     |██████████████████████████████▊ | 143kB 29.3MB/s eta 0:00:01\r\u001b[K     |████████████████████████████████| 153kB 29.3MB/s \n",
            "\u001b[?25hInstalling collected packages: xlsxwriter\n",
            "Successfully installed xlsxwriter-1.4.3\n"
          ],
          "name": "stdout"
        }
      ]
    },
    {
      "cell_type": "code",
      "metadata": {
        "id": "OqrijMY3-Twp"
      },
      "source": [
        "import pandas as pd\n",
        "import numpy as np\n",
        "import matplotlib.pyplot as plt\n",
        "import seaborn as sns\n",
        "import xlsxwriter\n",
        "from glob import glob\n",
        "%matplotlib inline"
      ],
      "execution_count": 43,
      "outputs": []
    },
    {
      "cell_type": "code",
      "metadata": {
        "id": "A71FBhD4sLKl"
      },
      "source": [
        "pd.set_option('display.max_rows', 100)"
      ],
      "execution_count": 44,
      "outputs": []
    },
    {
      "cell_type": "markdown",
      "metadata": {
        "id": "3MlY4xES_4L7"
      },
      "source": [
        "1. Importing the appropriate files"
      ]
    },
    {
      "cell_type": "code",
      "metadata": {
        "id": "Qq2IPI5e_7Yx"
      },
      "source": [
        "#Initiate a list of carriers. this abbreviation will be used to import each file based on the carrier name and will double as the alias for each carrier for use throughout the Python script. \n",
        "carriers_list = ['COIL','LCL', 'NWD', 'PL', 'PRT', 'MM']\n",
        "\n",
        "#Using Glob to import files based on carrier name\n",
        "files = [glob('{}*'.format(carrier)) for carrier in carriers_list]\n",
        "#Glob returns a list, so when using list comprehentions it will return a list of lists, we must convert to a flat list.\n",
        "files = [item for elem in files for item in elem]\n",
        "#Reading in the CSVs, skipfooter removes the summary statistics from the Morningstar output\n",
        "files = [pd.read_csv(file, skipfooter=13, engine='python') for file in files]\n",
        "#Converts to a dictionary to easily call DataFrames for each carrier. Dictionary structure is used for looping through different amounts carriers to increase reusability of scripts.\n",
        "carrier_dfs = dict(zip(carriers_list, files))"
      ],
      "execution_count": 45,
      "outputs": []
    },
    {
      "cell_type": "markdown",
      "metadata": {
        "id": "drBese4IQcNU"
      },
      "source": [
        "2. Data Cleaning"
      ]
    },
    {
      "cell_type": "code",
      "metadata": {
        "id": "G5wSpLQDQf6l"
      },
      "source": [
        "#removing \"\\n\" artifact caused by text wrap.\n",
        "for carrier, df in carrier_dfs.items():\n",
        "  df.rename(columns=lambda x: x.replace('\\n',''), inplace=True)"
      ],
      "execution_count": 46,
      "outputs": []
    },
    {
      "cell_type": "code",
      "metadata": {
        "id": "sfNuKI4eRRTo"
      },
      "source": [
        "#remove funds that are closed to new investment\n",
        "for carrier in carriers_list:\n",
        "  temp_df = carrier_dfs[carrier]\n",
        "  temp_df.drop(temp_df[temp_df['Closed to New Inv']=='Yes'].index, inplace=True)"
      ],
      "execution_count": 47,
      "outputs": []
    },
    {
      "cell_type": "code",
      "metadata": {
        "id": "ttDyKMh9Se_w"
      },
      "source": [
        "#Selecting columns used in BICFR\n",
        "cols_list = ['Name',\n",
        " 'Morningstar Category',\n",
        " 'Advisor',\n",
        " 'Total Ret 1 Yr (Mo-End) Base Currency',\n",
        " 'Total Ret Annlzd 3 Yr (Mo-End) Base Currency',\n",
        " 'Total Ret Annlzd 5 Yr (Mo-End) Base Currency',\n",
        " 'Total Ret Annlzd 10 Yr (Mo-End) Base Currency',\n",
        " 'Morningstar Rating Overall',\n",
        " 'Morningstar Rating 3 Yr',\n",
        " 'Morningstar Rating 5 Yr',\n",
        " 'Morningstar Rating 10 Yr',\n",
        " 'Total Ret % Rank Cat 1 Yr (Mo-End)',\n",
        " 'Total Ret % Rank Cat 3 Yr (Mo-End)',\n",
        " 'Total Ret % Rank Cat 5 Yr (Mo-End)',\n",
        " 'Total Ret % Rank Cat 10 Yr (Mo-End)',\n",
        " 'Manager Tenure (Average)',\n",
        " 'Sharpe Ratio 3 Yr (Mo-End) Risk Currency',\n",
        " 'Prospectus Net Expense Ratio']\n",
        "\n",
        "for carrier, df in carrier_dfs.items():\n",
        "  carrier_dfs[carrier] = df.loc[:,cols_list]"
      ],
      "execution_count": 48,
      "outputs": []
    },
    {
      "cell_type": "code",
      "metadata": {
        "id": "pU-PpjNlMTyq"
      },
      "source": [
        "#Remove prefixes in Morningstar Category\n",
        "replace_list = ['US VL Sub ', 'US Insurance ', 'US Fund ']\n",
        "\n",
        "for carrier in carriers_list:\n",
        "  temp_df = carrier_dfs[carrier]\n",
        "  for phrase in replace_list:\n",
        "    temp_df['Morningstar Category'] = temp_df['Morningstar Category'].str.replace(phrase, \"\")"
      ],
      "execution_count": 49,
      "outputs": []
    },
    {
      "cell_type": "code",
      "metadata": {
        "id": "DLsIF9CdN1m6"
      },
      "source": [
        "#Remove prefixes in fund names\n",
        "#create a dict frequency table for phgrases in front of -,ybe ones that show up for often are likely unneeded prefixes."
      ],
      "execution_count": null,
      "outputs": []
    },
    {
      "cell_type": "code",
      "metadata": {
        "id": "l4LjvJw-QGUD"
      },
      "source": [
        "#Concat into single dataframe with carrier and fund name as a multi index\n",
        "[df.insert(loc=0, column='Carrier', value=carrier) for carrier, df in carrier_dfs.items()]\n",
        "df = pd.concat(carrier_dfs.values())\n",
        "df.set_index(['Carrier', 'Name'], inplace=True)"
      ],
      "execution_count": 50,
      "outputs": []
    },
    {
      "cell_type": "markdown",
      "metadata": {
        "id": "m8ncPOZyP_ai"
      },
      "source": [
        "3. Carrier Subaccount Rankings and Analysis."
      ]
    },
    {
      "cell_type": "code",
      "metadata": {
        "id": "icd5i9NlS272"
      },
      "source": [
        "#creating a pivot table to aggregate carrier fund data for rankings.\n",
        "pivot_table = pd.pivot_table(df, index='Carrier', fill_value=np.nan)"
      ],
      "execution_count": 15,
      "outputs": []
    },
    {
      "cell_type": "code",
      "metadata": {
        "colab": {
          "base_uri": "https://localhost:8080/"
        },
        "id": "ox4IRyN5TBd-",
        "outputId": "7128f595-e02a-4955-e410-a377be49e9cc"
      },
      "source": [
        "#Seperating into tables for different sheets\n",
        "man_tenure = pd.merge(pivot_table['Manager Tenure (Average)'], pivot_table['Manager Tenure (Average)'].rank(ascending=False), how='left', left_index=True, right_index=True,suffixes=('', ' Rank'))\n",
        "\n",
        "sharpe_ratio = pd.merge(pivot_table['Sharpe Ratio 3 Yr (Mo-End) Risk Currency'], pivot_table['Sharpe Ratio 3 Yr (Mo-End) Risk Currency'].rank(ascending=False), how='left', left_index=True, right_index=True,suffixes=('', ' Rank'))\n",
        "\n",
        "exp_ratio = pd.merge(pivot_table['Prospectus Net Expense Ratio'], pivot_table['Prospectus Net Expense Ratio'].rank(), how='left', left_index=True, right_index=True,suffixes=('', ' Rank'))\n",
        "\n",
        "ms_ratings_cols = ['Morningstar Rating 10 Yr', 'Morningstar Rating 5 Yr', 'Morningstar Rating 3 Yr', 'Morningstar Rating Overall']\n",
        "ms_ratings =  pivot_table[ms_ratings_cols]\n",
        "for col in ms_ratings_cols:\n",
        "  ms_ratings[\"{} Rank\".format(col)] = ms_ratings[col].rank(ascending=False)\n",
        "\n",
        "rank_cat_cols = ['Total Ret % Rank Cat 1 Yr (Mo-End)', 'Total Ret % Rank Cat 3 Yr (Mo-End)', 'Total Ret % Rank Cat 5 Yr (Mo-End)', 'Total Ret % Rank Cat 10 Yr (Mo-End)']\n",
        "rank_cat = pivot_table[rank_cat_cols]\n",
        "for col in rank_cat_cols:\n",
        "  rank_cat[\"{} Rank\".format(col)] = rank_cat[col].rank()\n",
        "\n",
        "total_ret_cols = ['Total Ret 1 Yr (Mo-End) Base Currency', 'Total Ret Annlzd 3 Yr (Mo-End) Base Currency', 'Total Ret Annlzd 5 Yr (Mo-End) Base Currency', 'Total Ret Annlzd 10 Yr (Mo-End) Base Currency']\n",
        "total_ret = pivot_table.loc[:, total_ret_cols]\n",
        "\n",
        "for col in total_ret_cols:\n",
        "  total_ret[\"{} Rank\".format(col)] = total_ret[col].rank(ascending=False)"
      ],
      "execution_count": 16,
      "outputs": [
        {
          "output_type": "stream",
          "text": [
            "/usr/local/lib/python3.7/dist-packages/ipykernel_launcher.py:11: SettingWithCopyWarning: \n",
            "A value is trying to be set on a copy of a slice from a DataFrame.\n",
            "Try using .loc[row_indexer,col_indexer] = value instead\n",
            "\n",
            "See the caveats in the documentation: https://pandas.pydata.org/pandas-docs/stable/user_guide/indexing.html#returning-a-view-versus-a-copy\n",
            "  # This is added back by InteractiveShellApp.init_path()\n",
            "/usr/local/lib/python3.7/dist-packages/ipykernel_launcher.py:16: SettingWithCopyWarning: \n",
            "A value is trying to be set on a copy of a slice from a DataFrame.\n",
            "Try using .loc[row_indexer,col_indexer] = value instead\n",
            "\n",
            "See the caveats in the documentation: https://pandas.pydata.org/pandas-docs/stable/user_guide/indexing.html#returning-a-view-versus-a-copy\n",
            "  app.launch_new_instance()\n"
          ],
          "name": "stderr"
        }
      ]
    },
    {
      "cell_type": "code",
      "metadata": {
        "colab": {
          "base_uri": "https://localhost:8080/",
          "height": 265
        },
        "id": "faWtQyB2VJ1q",
        "outputId": "0b060486-236c-4278-a79e-18811a8ad1a7"
      },
      "source": [
        "total_ret"
      ],
      "execution_count": 17,
      "outputs": [
        {
          "output_type": "execute_result",
          "data": {
            "text/html": [
              "<div>\n",
              "<style scoped>\n",
              "    .dataframe tbody tr th:only-of-type {\n",
              "        vertical-align: middle;\n",
              "    }\n",
              "\n",
              "    .dataframe tbody tr th {\n",
              "        vertical-align: top;\n",
              "    }\n",
              "\n",
              "    .dataframe thead th {\n",
              "        text-align: right;\n",
              "    }\n",
              "</style>\n",
              "<table border=\"1\" class=\"dataframe\">\n",
              "  <thead>\n",
              "    <tr style=\"text-align: right;\">\n",
              "      <th></th>\n",
              "      <th>Total Ret 1 Yr (Mo-End) Base Currency</th>\n",
              "      <th>Total Ret Annlzd 3 Yr (Mo-End) Base Currency</th>\n",
              "      <th>Total Ret Annlzd 5 Yr (Mo-End) Base Currency</th>\n",
              "      <th>Total Ret Annlzd 10 Yr (Mo-End) Base Currency</th>\n",
              "      <th>Total Ret 1 Yr (Mo-End) Base Currency Rank</th>\n",
              "      <th>Total Ret Annlzd 3 Yr (Mo-End) Base Currency Rank</th>\n",
              "      <th>Total Ret Annlzd 5 Yr (Mo-End) Base Currency Rank</th>\n",
              "      <th>Total Ret Annlzd 10 Yr (Mo-End) Base Currency Rank</th>\n",
              "    </tr>\n",
              "    <tr>\n",
              "      <th>Carrier</th>\n",
              "      <th></th>\n",
              "      <th></th>\n",
              "      <th></th>\n",
              "      <th></th>\n",
              "      <th></th>\n",
              "      <th></th>\n",
              "      <th></th>\n",
              "      <th></th>\n",
              "    </tr>\n",
              "  </thead>\n",
              "  <tbody>\n",
              "    <tr>\n",
              "      <th>COIL</th>\n",
              "      <td>38.592250</td>\n",
              "      <td>11.724265</td>\n",
              "      <td>12.238955</td>\n",
              "      <td>9.021091</td>\n",
              "      <td>1.0</td>\n",
              "      <td>3.0</td>\n",
              "      <td>1.0</td>\n",
              "      <td>4.0</td>\n",
              "    </tr>\n",
              "    <tr>\n",
              "      <th>LCL</th>\n",
              "      <td>33.319308</td>\n",
              "      <td>11.198095</td>\n",
              "      <td>11.031210</td>\n",
              "      <td>8.399826</td>\n",
              "      <td>6.0</td>\n",
              "      <td>6.0</td>\n",
              "      <td>6.0</td>\n",
              "      <td>6.0</td>\n",
              "    </tr>\n",
              "    <tr>\n",
              "      <th>MM</th>\n",
              "      <td>35.515934</td>\n",
              "      <td>11.529121</td>\n",
              "      <td>11.496154</td>\n",
              "      <td>8.756207</td>\n",
              "      <td>4.0</td>\n",
              "      <td>5.0</td>\n",
              "      <td>5.0</td>\n",
              "      <td>5.0</td>\n",
              "    </tr>\n",
              "    <tr>\n",
              "      <th>NWD</th>\n",
              "      <td>34.737285</td>\n",
              "      <td>11.662945</td>\n",
              "      <td>11.737122</td>\n",
              "      <td>9.081333</td>\n",
              "      <td>5.0</td>\n",
              "      <td>4.0</td>\n",
              "      <td>4.0</td>\n",
              "      <td>3.0</td>\n",
              "    </tr>\n",
              "    <tr>\n",
              "      <th>PL</th>\n",
              "      <td>36.574107</td>\n",
              "      <td>11.991696</td>\n",
              "      <td>12.100642</td>\n",
              "      <td>9.231386</td>\n",
              "      <td>2.0</td>\n",
              "      <td>1.0</td>\n",
              "      <td>2.0</td>\n",
              "      <td>2.0</td>\n",
              "    </tr>\n",
              "    <tr>\n",
              "      <th>PRT</th>\n",
              "      <td>35.577426</td>\n",
              "      <td>11.857200</td>\n",
              "      <td>12.014592</td>\n",
              "      <td>9.282747</td>\n",
              "      <td>3.0</td>\n",
              "      <td>2.0</td>\n",
              "      <td>3.0</td>\n",
              "      <td>1.0</td>\n",
              "    </tr>\n",
              "  </tbody>\n",
              "</table>\n",
              "</div>"
            ],
            "text/plain": [
              "         Total Ret 1 Yr (Mo-End) Base Currency  ...  Total Ret Annlzd 10 Yr (Mo-End) Base Currency Rank\n",
              "Carrier                                         ...                                                    \n",
              "COIL                                 38.592250  ...                                                4.0 \n",
              "LCL                                  33.319308  ...                                                6.0 \n",
              "MM                                   35.515934  ...                                                5.0 \n",
              "NWD                                  34.737285  ...                                                3.0 \n",
              "PL                                   36.574107  ...                                                2.0 \n",
              "PRT                                  35.577426  ...                                                1.0 \n",
              "\n",
              "[6 rows x 8 columns]"
            ]
          },
          "metadata": {
            "tags": []
          },
          "execution_count": 17
        }
      ]
    },
    {
      "cell_type": "code",
      "metadata": {
        "colab": {
          "base_uri": "https://localhost:8080/",
          "height": 281
        },
        "id": "6GE4MlgWXA0h",
        "outputId": "2304b740-4435-4bf3-a06d-5d7bbfd88cdd"
      },
      "source": [
        "pivot_table"
      ],
      "execution_count": 18,
      "outputs": [
        {
          "output_type": "execute_result",
          "data": {
            "text/html": [
              "<div>\n",
              "<style scoped>\n",
              "    .dataframe tbody tr th:only-of-type {\n",
              "        vertical-align: middle;\n",
              "    }\n",
              "\n",
              "    .dataframe tbody tr th {\n",
              "        vertical-align: top;\n",
              "    }\n",
              "\n",
              "    .dataframe thead th {\n",
              "        text-align: right;\n",
              "    }\n",
              "</style>\n",
              "<table border=\"1\" class=\"dataframe\">\n",
              "  <thead>\n",
              "    <tr style=\"text-align: right;\">\n",
              "      <th></th>\n",
              "      <th>Manager Tenure (Average)</th>\n",
              "      <th>Morningstar Rating 10 Yr</th>\n",
              "      <th>Morningstar Rating 3 Yr</th>\n",
              "      <th>Morningstar Rating 5 Yr</th>\n",
              "      <th>Morningstar Rating Overall</th>\n",
              "      <th>Prospectus Net Expense Ratio</th>\n",
              "      <th>Sharpe Ratio 3 Yr (Mo-End) Risk Currency</th>\n",
              "      <th>Total Ret % Rank Cat 1 Yr (Mo-End)</th>\n",
              "      <th>Total Ret % Rank Cat 10 Yr (Mo-End)</th>\n",
              "      <th>Total Ret % Rank Cat 3 Yr (Mo-End)</th>\n",
              "      <th>Total Ret % Rank Cat 5 Yr (Mo-End)</th>\n",
              "      <th>Total Ret 1 Yr (Mo-End) Base Currency</th>\n",
              "      <th>Total Ret Annlzd 10 Yr (Mo-End) Base Currency</th>\n",
              "      <th>Total Ret Annlzd 3 Yr (Mo-End) Base Currency</th>\n",
              "      <th>Total Ret Annlzd 5 Yr (Mo-End) Base Currency</th>\n",
              "    </tr>\n",
              "    <tr>\n",
              "      <th>Carrier</th>\n",
              "      <th></th>\n",
              "      <th></th>\n",
              "      <th></th>\n",
              "      <th></th>\n",
              "      <th></th>\n",
              "      <th></th>\n",
              "      <th></th>\n",
              "      <th></th>\n",
              "      <th></th>\n",
              "      <th></th>\n",
              "      <th></th>\n",
              "      <th></th>\n",
              "      <th></th>\n",
              "      <th></th>\n",
              "      <th></th>\n",
              "    </tr>\n",
              "  </thead>\n",
              "  <tbody>\n",
              "    <tr>\n",
              "      <th>COIL</th>\n",
              "      <td>7.376500</td>\n",
              "      <td>3.444444</td>\n",
              "      <td>3.388060</td>\n",
              "      <td>3.469697</td>\n",
              "      <td>3.492537</td>\n",
              "      <td>1.007000</td>\n",
              "      <td>0.622353</td>\n",
              "      <td>46.375000</td>\n",
              "      <td>44.000000</td>\n",
              "      <td>45.764706</td>\n",
              "      <td>41.835821</td>\n",
              "      <td>38.592250</td>\n",
              "      <td>9.021091</td>\n",
              "      <td>11.724265</td>\n",
              "      <td>12.238955</td>\n",
              "    </tr>\n",
              "    <tr>\n",
              "      <th>LCL</th>\n",
              "      <td>6.745328</td>\n",
              "      <td>3.070175</td>\n",
              "      <td>3.208000</td>\n",
              "      <td>3.178862</td>\n",
              "      <td>3.200000</td>\n",
              "      <td>0.682993</td>\n",
              "      <td>0.704841</td>\n",
              "      <td>46.162791</td>\n",
              "      <td>47.429825</td>\n",
              "      <td>44.192000</td>\n",
              "      <td>45.292683</td>\n",
              "      <td>33.319308</td>\n",
              "      <td>8.399826</td>\n",
              "      <td>11.198095</td>\n",
              "      <td>11.031210</td>\n",
              "    </tr>\n",
              "    <tr>\n",
              "      <th>MM</th>\n",
              "      <td>7.003981</td>\n",
              "      <td>3.883721</td>\n",
              "      <td>3.593407</td>\n",
              "      <td>3.626374</td>\n",
              "      <td>3.857143</td>\n",
              "      <td>0.813241</td>\n",
              "      <td>0.710659</td>\n",
              "      <td>39.637363</td>\n",
              "      <td>31.494253</td>\n",
              "      <td>38.593407</td>\n",
              "      <td>37.395604</td>\n",
              "      <td>35.515934</td>\n",
              "      <td>8.756207</td>\n",
              "      <td>11.529121</td>\n",
              "      <td>11.496154</td>\n",
              "    </tr>\n",
              "    <tr>\n",
              "      <th>NWD</th>\n",
              "      <td>7.401688</td>\n",
              "      <td>4.061538</td>\n",
              "      <td>3.703448</td>\n",
              "      <td>3.775362</td>\n",
              "      <td>4.020690</td>\n",
              "      <td>0.715649</td>\n",
              "      <td>0.710548</td>\n",
              "      <td>41.060000</td>\n",
              "      <td>28.681481</td>\n",
              "      <td>37.363014</td>\n",
              "      <td>35.381295</td>\n",
              "      <td>34.737285</td>\n",
              "      <td>9.081333</td>\n",
              "      <td>11.662945</td>\n",
              "      <td>11.737122</td>\n",
              "    </tr>\n",
              "    <tr>\n",
              "      <th>PL</th>\n",
              "      <td>7.483661</td>\n",
              "      <td>3.442105</td>\n",
              "      <td>3.405405</td>\n",
              "      <td>3.435185</td>\n",
              "      <td>3.504505</td>\n",
              "      <td>0.649911</td>\n",
              "      <td>0.695000</td>\n",
              "      <td>45.750000</td>\n",
              "      <td>70.000000</td>\n",
              "      <td>55.750000</td>\n",
              "      <td>49.000000</td>\n",
              "      <td>36.574107</td>\n",
              "      <td>9.231386</td>\n",
              "      <td>11.991696</td>\n",
              "      <td>12.100642</td>\n",
              "    </tr>\n",
              "    <tr>\n",
              "      <th>PRT</th>\n",
              "      <td>7.199604</td>\n",
              "      <td>3.977011</td>\n",
              "      <td>3.326531</td>\n",
              "      <td>3.541667</td>\n",
              "      <td>3.755102</td>\n",
              "      <td>0.816931</td>\n",
              "      <td>0.693700</td>\n",
              "      <td>50.485149</td>\n",
              "      <td>29.288889</td>\n",
              "      <td>46.600000</td>\n",
              "      <td>41.836735</td>\n",
              "      <td>35.577426</td>\n",
              "      <td>9.282747</td>\n",
              "      <td>11.857200</td>\n",
              "      <td>12.014592</td>\n",
              "    </tr>\n",
              "  </tbody>\n",
              "</table>\n",
              "</div>"
            ],
            "text/plain": [
              "         Manager Tenure (Average)  ...  Total Ret Annlzd 5 Yr (Mo-End) Base Currency\n",
              "Carrier                            ...                                              \n",
              "COIL                     7.376500  ...                                     12.238955\n",
              "LCL                      6.745328  ...                                     11.031210\n",
              "MM                       7.003981  ...                                     11.496154\n",
              "NWD                      7.401688  ...                                     11.737122\n",
              "PL                       7.483661  ...                                     12.100642\n",
              "PRT                      7.199604  ...                                     12.014592\n",
              "\n",
              "[6 rows x 15 columns]"
            ]
          },
          "metadata": {
            "tags": []
          },
          "execution_count": 18
        }
      ]
    },
    {
      "cell_type": "code",
      "metadata": {
        "id": "TgTkDe7bXPLM"
      },
      "source": [
        "def freq_table(data, column):\n",
        "  table = {}\n",
        "  for item in data[column].unique():\n",
        "    freq = len(data[data[column]==item])\n",
        "    table[item] = freq\n",
        "  table = pd.DataFrame.from_dict(table, orient='index', columns=['Frequency']).sort_values(by='Frequency', ascending=False)\n",
        "  return table\n",
        "  "
      ],
      "execution_count": 19,
      "outputs": []
    },
    {
      "cell_type": "code",
      "metadata": {
        "id": "YoTtiGDmXXnx"
      },
      "source": [
        "# freq_table(df, 'Morningstar Category')"
      ],
      "execution_count": null,
      "outputs": []
    },
    {
      "cell_type": "markdown",
      "metadata": {
        "id": "E2eo8aOms3kj"
      },
      "source": [
        "3. Best In Class Fund Selection"
      ]
    },
    {
      "cell_type": "code",
      "metadata": {
        "id": "KNqC9lb1s7Dl"
      },
      "source": [
        "df['Sum Rating'] = df['Morningstar Rating 3 Yr'] + df['Morningstar Rating 5 Yr'] + df['Morningstar Rating 10 Yr'] + df['Morningstar Rating Overall']\n",
        "df['Sum Ranking'] = df['Total Ret % Rank Cat 1 Yr (Mo-End)'] + df['Total Ret % Rank Cat 3 Yr (Mo-End)'] + df['Total Ret % Rank Cat 5 Yr (Mo-End)'] + df['Total Ret % Rank Cat 10 Yr (Mo-End)']\n",
        "df['Sum Ranking'] = df['Sum Ranking'].apply(lambda x: 400-x)\n",
        "\n",
        "test = df.loc[('PRT', slice(None))]\n",
        "test = test[test['Morningstar Category'] == 'Large Blend']  "
      ],
      "execution_count": 54,
      "outputs": []
    },
    {
      "cell_type": "code",
      "metadata": {
        "id": "2LVC4bE91uTD"
      },
      "source": [
        "if len(test[test['Sum Rating'] == test['Sum Rating'].max()]['Sum Rating']) == 1:\n",
        "  test['BICF'] = 'Yes'\n",
        "elif len(test[test['Sum Ranking'] == test['Sum Ranking'].max()]['Sum Ranking']) == 1:\n",
        "  test['BICF'] = 'Yes'\n",
        "else:\n",
        "  pass"
      ],
      "execution_count": 21,
      "outputs": []
    },
    {
      "cell_type": "code",
      "metadata": {
        "id": "RozXhJqJzyzH"
      },
      "source": [
        "# def get_uniques(df_list, column, keep=str):\n",
        "#   '''\n",
        "#   get all unique values from a single column in multiple DataFrames\n",
        "#   '''\n",
        "\n",
        "#   vals = [list(df[column]) for df in df_list]\n",
        "#   vals = set([item for elem in vals for item in elem])\n",
        "#   vals = [e for e in vals if isinstance(e, keep)]\n",
        "#   return list(vals)\n",
        "\n",
        "# asset_classes = get_uniques(carrier_dfs.values(), 'Morningstar Category')"
      ],
      "execution_count": null,
      "outputs": []
    },
    {
      "cell_type": "code",
      "metadata": {
        "id": "j35d3QW0ciVU"
      },
      "source": [
        "asset_classes = list(df['Morningstar Category'].dropna().unique())"
      ],
      "execution_count": 82,
      "outputs": []
    },
    {
      "cell_type": "code",
      "metadata": {
        "id": "n_AptPgn3aYl"
      },
      "source": [
        "asset_classes.sort()"
      ],
      "execution_count": 91,
      "outputs": []
    },
    {
      "cell_type": "code",
      "metadata": {
        "id": "iR1mSXT4c_6U",
        "colab": {
          "base_uri": "https://localhost:8080/"
        },
        "outputId": "72fb70f2-b051-4f29-89ff-0b29eb9caa8b"
      },
      "source": [
        "asset_classes"
      ],
      "execution_count": 92,
      "outputs": [
        {
          "output_type": "execute_result",
          "data": {
            "text/plain": [
              "['Allocation--15% to 30% Equity',\n",
              " 'Allocation--30% to 50% Equity',\n",
              " 'Allocation--50% to 70% Equity',\n",
              " 'Allocation--70% to 85% Equity',\n",
              " 'Allocation--85%+ Equity',\n",
              " 'Bank Loan',\n",
              " 'Commodities Broad Basket',\n",
              " 'Convertibles',\n",
              " 'Diversified Emerging Mkts',\n",
              " 'Emerging Markets Bond',\n",
              " 'Equity Energy',\n",
              " 'Event Driven',\n",
              " 'Financial',\n",
              " 'Foreign Large Blend',\n",
              " 'Foreign Large Growth',\n",
              " 'Foreign Large Value',\n",
              " 'Foreign Small/Mid Blend',\n",
              " 'Fund World Large-Stock Growth',\n",
              " 'Global Real Estate',\n",
              " 'Health',\n",
              " 'High Yield Bond',\n",
              " 'Inflation-Protected Bond',\n",
              " 'Intermediate Core Bond',\n",
              " 'Intermediate Core-Plus Bond',\n",
              " 'Intermediate Government',\n",
              " 'Large Blend',\n",
              " 'Large Growth',\n",
              " 'Large Value',\n",
              " 'Long Government',\n",
              " 'Long-Short Equity',\n",
              " 'Mid-Cap Blend',\n",
              " 'Mid-Cap Growth',\n",
              " 'Mid-Cap Value',\n",
              " 'Money Market - Taxable',\n",
              " 'Multisector Bond',\n",
              " 'Multistrategy',\n",
              " 'Natural Resources',\n",
              " 'Nontraditional Bond',\n",
              " 'Prime Money Market',\n",
              " 'Real Estate',\n",
              " 'Short-Term Bond',\n",
              " 'Small Blend',\n",
              " 'Small Growth',\n",
              " 'Small Value',\n",
              " 'Systematic Trend',\n",
              " 'Tactical Allocation',\n",
              " 'Target-Date 2000-2010',\n",
              " 'Target-Date 2015',\n",
              " 'Target-Date 2020',\n",
              " 'Target-Date 2025',\n",
              " 'Target-Date 2030',\n",
              " 'Target-Date 2035',\n",
              " 'Target-Date 2040',\n",
              " 'Target-Date 2045',\n",
              " 'Target-Date 2050',\n",
              " 'Target-Date 2055',\n",
              " 'Target-Date 2060',\n",
              " 'Target-Date 2065+',\n",
              " 'Target-Date Retirement',\n",
              " 'Technology',\n",
              " 'Ultrashort Bond',\n",
              " 'Utilities',\n",
              " 'World Allocation',\n",
              " 'World Bond',\n",
              " 'World Bond-USD Hedged',\n",
              " 'World Large-Stock Blend',\n",
              " 'World Large-Stock Growth',\n",
              " 'World Large-Stock Value',\n",
              " 'World Small/Mid Stock']"
            ]
          },
          "metadata": {
            "tags": []
          },
          "execution_count": 92
        }
      ]
    },
    {
      "cell_type": "code",
      "metadata": {
        "id": "nxpgRNYT3e5z"
      },
      "source": [
        "#Selects best in class funds based on the following order:\n",
        "#   Highest sum of MS rating, if multiple funds have the same highest MS rating sum,\n",
        "#   MS sum ranking is used, if MS rating is (closeness factor %) close to the highest\n",
        "#   MS ranking sum, lowest expense ratio fund is used.\n",
        "\n",
        "closeness_factor = .2\n",
        "BICF_list = []\n",
        "for asset_class in asset_classes:\n",
        "  temp_df = df[df['Morningstar Category'] == asset_class]\n",
        "  aclass_max_rating = temp_df['Sum Rating'].max()\n",
        "  max_df = temp_df[temp_df['Sum Rating'] == aclass_max_rating]\n",
        "  if len(max_df) == 1:\n",
        "    print(max_df)\n",
        "    BICF_list.append(max_df)\n",
        "  elif len(max_df) > 1:\n",
        "    aclass_max_ranking = max_df['Sum Ranking'].max()*(1-closeness_factor)\n",
        "    filt = df['Sum Ranking'] > aclass_max_ranking\n",
        "    max_df = max_df[filt]\n",
        "  elif len(max_df) == 1:\n",
        "    BICF_list.append(max_df)\n",
        "  elif len(max_df) > 1:\n",
        "    min_exp_ratio = max_df['Prospectus Net Expense Ratio'].min()\n",
        "    max_df = max_df[max_df['Prospectus Net Expense Ratio'] == min_exp_ratio]\n",
        "    BICF_list.append(max_df)\n",
        "  else:\n",
        "    pass"
      ],
      "execution_count": null,
      "outputs": []
    },
    {
      "cell_type": "code",
      "metadata": {
        "id": "2-pouLHUf9_v"
      },
      "source": [
        "filt = df['Morningstar Category']=='Large Growth'\n",
        "temp_df = df[filt].loc[('PRT', slice(None))]"
      ],
      "execution_count": 123,
      "outputs": []
    },
    {
      "cell_type": "code",
      "metadata": {
        "colab": {
          "base_uri": "https://localhost:8080/",
          "height": 218
        },
        "id": "XWBpRwIpgQPb",
        "outputId": "7a2a0e39-8a01-45dd-924d-e13ccd0f2b5e"
      },
      "source": [
        "pd.concat(BICF_list)"
      ],
      "execution_count": 126,
      "outputs": [
        {
          "output_type": "execute_result",
          "data": {
            "text/html": [
              "<div>\n",
              "<style scoped>\n",
              "    .dataframe tbody tr th:only-of-type {\n",
              "        vertical-align: middle;\n",
              "    }\n",
              "\n",
              "    .dataframe tbody tr th {\n",
              "        vertical-align: top;\n",
              "    }\n",
              "\n",
              "    .dataframe thead th {\n",
              "        text-align: right;\n",
              "    }\n",
              "</style>\n",
              "<table border=\"1\" class=\"dataframe\">\n",
              "  <thead>\n",
              "    <tr style=\"text-align: right;\">\n",
              "      <th></th>\n",
              "      <th>Morningstar Category</th>\n",
              "      <th>Advisor</th>\n",
              "      <th>Total Ret 1 Yr (Mo-End) Base Currency</th>\n",
              "      <th>Total Ret Annlzd 3 Yr (Mo-End) Base Currency</th>\n",
              "      <th>Total Ret Annlzd 5 Yr (Mo-End) Base Currency</th>\n",
              "      <th>Total Ret Annlzd 10 Yr (Mo-End) Base Currency</th>\n",
              "      <th>Morningstar Rating Overall</th>\n",
              "      <th>Morningstar Rating 3 Yr</th>\n",
              "      <th>Morningstar Rating 5 Yr</th>\n",
              "      <th>Morningstar Rating 10 Yr</th>\n",
              "      <th>Total Ret % Rank Cat 1 Yr (Mo-End)</th>\n",
              "      <th>Total Ret % Rank Cat 3 Yr (Mo-End)</th>\n",
              "      <th>Total Ret % Rank Cat 5 Yr (Mo-End)</th>\n",
              "      <th>Total Ret % Rank Cat 10 Yr (Mo-End)</th>\n",
              "      <th>Manager Tenure (Average)</th>\n",
              "      <th>Sharpe Ratio 3 Yr (Mo-End) Risk Currency</th>\n",
              "      <th>Prospectus Net Expense Ratio</th>\n",
              "      <th>Sum Rating</th>\n",
              "      <th>Sum Ranking</th>\n",
              "    </tr>\n",
              "    <tr>\n",
              "      <th>Name</th>\n",
              "      <th></th>\n",
              "      <th></th>\n",
              "      <th></th>\n",
              "      <th></th>\n",
              "      <th></th>\n",
              "      <th></th>\n",
              "      <th></th>\n",
              "      <th></th>\n",
              "      <th></th>\n",
              "      <th></th>\n",
              "      <th></th>\n",
              "      <th></th>\n",
              "      <th></th>\n",
              "      <th></th>\n",
              "      <th></th>\n",
              "      <th></th>\n",
              "      <th></th>\n",
              "      <th></th>\n",
              "      <th></th>\n",
              "    </tr>\n",
              "  </thead>\n",
              "  <tbody>\n",
              "    <tr>\n",
              "      <th>Pro Ex Br-American Funds IS® Growth 2</th>\n",
              "      <td>Large Growth</td>\n",
              "      <td>Capital Research and Management Company</td>\n",
              "      <td>54.76</td>\n",
              "      <td>25.9</td>\n",
              "      <td>24.5</td>\n",
              "      <td>16.98</td>\n",
              "      <td>5.0</td>\n",
              "      <td>5.0</td>\n",
              "      <td>5.0</td>\n",
              "      <td>4.0</td>\n",
              "      <td>5.0</td>\n",
              "      <td>5.0</td>\n",
              "      <td>6.0</td>\n",
              "      <td>19.0</td>\n",
              "      <td>4.31</td>\n",
              "      <td>1.19</td>\n",
              "      <td>0.61</td>\n",
              "      <td>19.0</td>\n",
              "      <td>365.0</td>\n",
              "    </tr>\n",
              "  </tbody>\n",
              "</table>\n",
              "</div>"
            ],
            "text/plain": [
              "                                      Morningstar Category  ... Sum Ranking\n",
              "Name                                                        ...            \n",
              "Pro Ex Br-American Funds IS® Growth 2         Large Growth  ...       365.0\n",
              "\n",
              "[1 rows x 19 columns]"
            ]
          },
          "metadata": {
            "tags": []
          },
          "execution_count": 126
        }
      ]
    },
    {
      "cell_type": "code",
      "metadata": {
        "colab": {
          "base_uri": "https://localhost:8080/",
          "height": 296
        },
        "id": "2B5Qf5wEikKQ",
        "outputId": "9c48f9a7-df42-42f9-e48f-d82953a85824"
      },
      "source": [
        "temp_df[temp_df['Sum Rating']==19]"
      ],
      "execution_count": 128,
      "outputs": [
        {
          "output_type": "execute_result",
          "data": {
            "text/html": [
              "<div>\n",
              "<style scoped>\n",
              "    .dataframe tbody tr th:only-of-type {\n",
              "        vertical-align: middle;\n",
              "    }\n",
              "\n",
              "    .dataframe tbody tr th {\n",
              "        vertical-align: top;\n",
              "    }\n",
              "\n",
              "    .dataframe thead th {\n",
              "        text-align: right;\n",
              "    }\n",
              "</style>\n",
              "<table border=\"1\" class=\"dataframe\">\n",
              "  <thead>\n",
              "    <tr style=\"text-align: right;\">\n",
              "      <th></th>\n",
              "      <th>Morningstar Category</th>\n",
              "      <th>Advisor</th>\n",
              "      <th>Total Ret 1 Yr (Mo-End) Base Currency</th>\n",
              "      <th>Total Ret Annlzd 3 Yr (Mo-End) Base Currency</th>\n",
              "      <th>Total Ret Annlzd 5 Yr (Mo-End) Base Currency</th>\n",
              "      <th>Total Ret Annlzd 10 Yr (Mo-End) Base Currency</th>\n",
              "      <th>Morningstar Rating Overall</th>\n",
              "      <th>Morningstar Rating 3 Yr</th>\n",
              "      <th>Morningstar Rating 5 Yr</th>\n",
              "      <th>Morningstar Rating 10 Yr</th>\n",
              "      <th>Total Ret % Rank Cat 1 Yr (Mo-End)</th>\n",
              "      <th>Total Ret % Rank Cat 3 Yr (Mo-End)</th>\n",
              "      <th>Total Ret % Rank Cat 5 Yr (Mo-End)</th>\n",
              "      <th>Total Ret % Rank Cat 10 Yr (Mo-End)</th>\n",
              "      <th>Manager Tenure (Average)</th>\n",
              "      <th>Sharpe Ratio 3 Yr (Mo-End) Risk Currency</th>\n",
              "      <th>Prospectus Net Expense Ratio</th>\n",
              "      <th>Sum Rating</th>\n",
              "      <th>Sum Ranking</th>\n",
              "    </tr>\n",
              "    <tr>\n",
              "      <th>Name</th>\n",
              "      <th></th>\n",
              "      <th></th>\n",
              "      <th></th>\n",
              "      <th></th>\n",
              "      <th></th>\n",
              "      <th></th>\n",
              "      <th></th>\n",
              "      <th></th>\n",
              "      <th></th>\n",
              "      <th></th>\n",
              "      <th></th>\n",
              "      <th></th>\n",
              "      <th></th>\n",
              "      <th></th>\n",
              "      <th></th>\n",
              "      <th></th>\n",
              "      <th></th>\n",
              "      <th></th>\n",
              "      <th></th>\n",
              "    </tr>\n",
              "  </thead>\n",
              "  <tbody>\n",
              "    <tr>\n",
              "      <th>Pro Ex Br-American Funds IS® Growth 2</th>\n",
              "      <td>Large Growth</td>\n",
              "      <td>Capital Research and Management Company</td>\n",
              "      <td>54.76</td>\n",
              "      <td>25.90</td>\n",
              "      <td>24.50</td>\n",
              "      <td>16.98</td>\n",
              "      <td>5.0</td>\n",
              "      <td>5.0</td>\n",
              "      <td>5.0</td>\n",
              "      <td>4.0</td>\n",
              "      <td>5.0</td>\n",
              "      <td>5.0</td>\n",
              "      <td>6.0</td>\n",
              "      <td>19.0</td>\n",
              "      <td>4.31</td>\n",
              "      <td>1.19</td>\n",
              "      <td>0.61</td>\n",
              "      <td>19.0</td>\n",
              "      <td>365.0</td>\n",
              "    </tr>\n",
              "    <tr>\n",
              "      <th>Pro Ex Br-Janus Henderson VIT Forty Instl</th>\n",
              "      <td>Large Growth</td>\n",
              "      <td>Janus Capital Management LLC</td>\n",
              "      <td>43.94</td>\n",
              "      <td>24.71</td>\n",
              "      <td>22.94</td>\n",
              "      <td>17.65</td>\n",
              "      <td>5.0</td>\n",
              "      <td>5.0</td>\n",
              "      <td>4.0</td>\n",
              "      <td>5.0</td>\n",
              "      <td>24.0</td>\n",
              "      <td>15.0</td>\n",
              "      <td>25.0</td>\n",
              "      <td>7.0</td>\n",
              "      <td>6.71</td>\n",
              "      <td>1.20</td>\n",
              "      <td>0.76</td>\n",
              "      <td>19.0</td>\n",
              "      <td>329.0</td>\n",
              "    </tr>\n",
              "  </tbody>\n",
              "</table>\n",
              "</div>"
            ],
            "text/plain": [
              "                                          Morningstar Category  ... Sum Ranking\n",
              "Name                                                            ...            \n",
              "Pro Ex Br-American Funds IS® Growth 2             Large Growth  ...       365.0\n",
              "Pro Ex Br-Janus Henderson VIT Forty Instl         Large Growth  ...       329.0\n",
              "\n",
              "[2 rows x 19 columns]"
            ]
          },
          "metadata": {
            "tags": []
          },
          "execution_count": 128
        }
      ]
    }
  ]
}