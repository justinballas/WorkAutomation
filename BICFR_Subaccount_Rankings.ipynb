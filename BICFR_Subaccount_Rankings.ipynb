{
  "nbformat": 4,
  "nbformat_minor": 0,
  "metadata": {
    "colab": {
      "name": "BICFR Subaccount Rankings.ipynb",
      "provenance": [],
      "collapsed_sections": [],
      "authorship_tag": "ABX9TyPzS3rZBpP0cRWkWTtk4z05",
      "include_colab_link": true
    },
    "kernelspec": {
      "name": "python3",
      "display_name": "Python 3"
    },
    "language_info": {
      "name": "python"
    }
  },
  "cells": [
    {
      "cell_type": "markdown",
      "metadata": {
        "id": "view-in-github",
        "colab_type": "text"
      },
      "source": [
        "<a href=\"https://colab.research.google.com/github/justinballas/WorkAutomation/blob/main/BICFR_Subaccount_Rankings.ipynb\" target=\"_parent\"><img src=\"https://colab.research.google.com/assets/colab-badge.svg\" alt=\"Open In Colab\"/></a>"
      ]
    },
    {
      "cell_type": "code",
      "metadata": {
        "colab": {
          "base_uri": "https://localhost:8080/"
        },
        "id": "8OFxYJIZHydc",
        "outputId": "74068c69-5ca5-402b-a363-34ab209bc5a2"
      },
      "source": [
        "!pip install xlsxwriter"
      ],
      "execution_count": null,
      "outputs": [
        {
          "output_type": "stream",
          "text": [
            "Collecting xlsxwriter\n",
            "\u001b[?25l  Downloading https://files.pythonhosted.org/packages/2c/ce/74fd8d638a5b82ea0c6f08a5978f741c2655a38c3d6e82f73a0f084377e6/XlsxWriter-1.4.3-py2.py3-none-any.whl (149kB)\n",
            "\r\u001b[K     |██▏                             | 10kB 10.7MB/s eta 0:00:01\r\u001b[K     |████▍                           | 20kB 10.2MB/s eta 0:00:01\r\u001b[K     |██████▋                         | 30kB 6.3MB/s eta 0:00:01\r\u001b[K     |████████▊                       | 40kB 4.8MB/s eta 0:00:01\r\u001b[K     |███████████                     | 51kB 3.0MB/s eta 0:00:01\r\u001b[K     |█████████████▏                  | 61kB 3.3MB/s eta 0:00:01\r\u001b[K     |███████████████▍                | 71kB 3.5MB/s eta 0:00:01\r\u001b[K     |█████████████████▌              | 81kB 3.8MB/s eta 0:00:01\r\u001b[K     |███████████████████▊            | 92kB 3.8MB/s eta 0:00:01\r\u001b[K     |██████████████████████          | 102kB 3.7MB/s eta 0:00:01\r\u001b[K     |████████████████████████▏       | 112kB 3.7MB/s eta 0:00:01\r\u001b[K     |██████████████████████████▎     | 122kB 3.7MB/s eta 0:00:01\r\u001b[K     |████████████████████████████▌   | 133kB 3.7MB/s eta 0:00:01\r\u001b[K     |██████████████████████████████▊ | 143kB 3.7MB/s eta 0:00:01\r\u001b[K     |████████████████████████████████| 153kB 3.7MB/s \n",
            "\u001b[?25hInstalling collected packages: xlsxwriter\n",
            "Successfully installed xlsxwriter-1.4.3\n"
          ],
          "name": "stdout"
        }
      ]
    },
    {
      "cell_type": "code",
      "metadata": {
        "id": "KtPVcT3t8ZZR"
      },
      "source": [
        "import pandas as pd\n",
        "import numpy as np\n",
        "import matplotlib.pyplot as plt\n",
        "import seaborn as sns\n",
        "import xlsxwriter\n",
        "%matplotlib inline"
      ],
      "execution_count": null,
      "outputs": []
    },
    {
      "cell_type": "code",
      "metadata": {
        "id": "VGl3J-cz-w7L"
      },
      "source": [
        "carriers_list = ['MassMutual', 'Protective', 'Nationwide', 'Pacific Life', 'Lincoln']\n",
        "carriers_list.reverse()\n",
        "# ,\n",
        "carrier_dfs = {}\n",
        "for carrier in carriers_list:\n",
        "  df = pd.read_excel('Subaccount_Rankings_data_03062021.xlsx', sheet_name=carrier)\n",
        "  carrier_dfs[carrier] = df\n",
        " #skipfooter=13\n",
        "\n",
        "for carrier, df in carrier_dfs.items():\n",
        "  df.rename(columns=lambda x: x.replace('\\n',''), inplace=True)\n",
        "\n",
        "#replace_list = [\"US Insurance \",\"US Fund \", \"US VUL Sub \", \"US VL Sub \"]\n",
        "\n",
        "for carrier in carriers_list:\n",
        "  temp_df = carrier_dfs[carrier]\n",
        "  temp_df.drop(temp_df[temp_df['Closed to New Inv']=='Yes'].index, inplace=True)\n",
        "#  temp_df['Name'] = temp_df['Name'].str.split(\"-\", 1).apply(lambda x: x[1])\n",
        "#  for phrase in replace_list:\n",
        "#  temp_df['Morningstar Category'] = temp_df['Morningstar Category'].str.replace(phrase, \"\")\n",
        "\n",
        "\n",
        "mnstar_ratings = []\n",
        "for carrier, df in carrier_dfs.items():\n",
        "  temp_df = df\n",
        "  temp_df.insert(loc=0, column='Carrier', value=carrier)\n",
        "  mnstar_ratings.append(temp_df)\n",
        "  print(temp_df)\n",
        "\n",
        "ratings_df = pd.concat(mnstar_ratings)\n",
        "\n",
        "ratings_df.drop(df[df['Closed to New Inv']=='Yes'].index, inplace=True)\n",
        "\n",
        "agg_df_carrier = pd.pivot_table(ratings_df, index='Carrier', fill_value=np.nan)\n",
        "\n",
        "agg_df_class = pd.pivot_table(ratings_df, index='Morningstar Category', fill_value=np.nan)\n",
        "\n",
        "fig = plt.figure(figsize=[15, 15])\n",
        "\n",
        "\n",
        "\n",
        "#Creating Hsitogram\n",
        "for carrier in enumerate(carrier_dfs.keys()):\n",
        "  temp_df = ratings_df[ratings_df['Carrier']==carrier[1]]\n",
        "  temp_df = temp_df[['Morningstar Rating Overall','Carrier']]\n",
        "  ax = fig.add_subplot(2, 3, carrier[0]+1)\n",
        "  title = temp_df.iloc[0,1]\n",
        "  plt.ylim(0,120)\n",
        "  plt.xlabel('Morningstar Overall',fontsize=15)\n",
        "  plt.ylabel('Frequency',fontsize=15)\n",
        "  plt.title(title)\n",
        "  ax.hist(temp_df['Morningstar Rating Overall'])\n",
        "  plt.tight_layout()\n",
        "\n",
        "plt.savefig('Carrier Histograms.png')\n",
        "\n",
        "\n",
        "#Seperating into tables for different sheets\n",
        "man_tenure = pd.merge(agg_df_carrier['Manager Tenure (Average)'], agg_df_carrier['Manager Tenure (Average)'].rank(ascending=False), how='left', left_index=True, right_index=True,suffixes=('', ' Rank'))\n",
        "\n",
        "sharpe = pd.merge(agg_df_carrier['Sharpe Ratio 3 Yr (Mo-End) Risk Currency'], agg_df_carrier['Sharpe Ratio 3 Yr (Mo-End) Risk Currency'].rank(ascending=False), how='left', left_index=True, right_index=True,suffixes=('', ' Rank'))\n",
        "\n",
        "exp_ratio = pd.merge(agg_df_carrier['Prospectus Net Expense Ratio'], agg_df_carrier['Prospectus Net Expense Ratio'].rank(), how='left', left_index=True, right_index=True,suffixes=('', ' Rank'))\n",
        "ms_ratings_cols = ['Morningstar Rating 10 Yr', 'Morningstar Rating 5 Yr', 'Morningstar Rating 3 Yr', 'Morningstar Rating Overall']\n",
        "ms_ratings =  agg_df_carrier[ms_ratings_cols]\n",
        "\n",
        "\n",
        "\n",
        "#--------------------------------------\n",
        "for col in ms_ratings_cols:\n",
        "  ms_ratings[\"{} Rank\".format(col)] = ms_ratings[col].rank(ascending=False)\n",
        "\n",
        "#--------------------------------------\n",
        "rank_cat_cols = ['Total Ret % Rank Cat 1 Yr (Mo-End)', 'Total Ret % Rank Cat 3 Yr (Mo-End)', 'Total Ret % Rank Cat 5 Yr (Mo-End)', 'Total Ret % Rank Cat 10 Yr (Mo-End)']\n",
        "rank_cat = agg_df_carrier[rank_cat_cols]\n",
        "\n",
        "for col in rank_cat_cols:\n",
        "  rank_cat[\"{} Rank\".format(col)] = rank_cat[col].rank()\n",
        "\n",
        "#--------------------------------------\n",
        "total_ret_cols = ['Total Ret 1 Yr (Mo-End) Base Currency', 'Total Ret Annlzd 3 Yr (Mo-End) Base Currency', 'Total Ret Annlzd 5 Yr (Mo-End) Base Currency', 'Total Ret Annlzd 10 Yr (Mo-End) Base Currency']\n",
        "total_ret = agg_df_carrier.loc[:, total_ret_cols]\n",
        "\n",
        "for col in total_ret_cols:\n",
        "  total_ret[\"{} Rank\".format(col)] = total_ret[col].rank(ascending=False)\n",
        "\n",
        "\n",
        "#Best in class fund selection\n",
        "asset_classes = ratings_df['Morningstar Category'].unique()\n",
        "\n",
        "ratings_df['sum_ratings'] = ratings_df['Morningstar Rating 10 Yr'] + ratings_df['Morningstar Rating 5 Yr'] + ratings_df['Morningstar Rating 3 Yr'] + ratings_df['Morningstar Rating Overall']\n",
        "\n",
        "\n",
        "ratings_df['avg_rankings'] = (ratings_df['Total Ret % Rank Cat 1 Yr (Mo-End)'] + ratings_df['Total Ret % Rank Cat 3 Yr (Mo-End)'] + ratings_df['Total Ret % Rank Cat 5 Yr (Mo-End)'] + ratings_df['Total Ret % Rank Cat 10 Yr (Mo-End)'])/4\n",
        "\n",
        "ratings_df['total_score'] = ratings_df['sum_ratings'] + ratings_df['avg_rankings'].apply(lambda x: 1-(x/100))\n",
        "\n",
        "bicf_list = []\n",
        "for carrier in carriers_list:\n",
        "  temp_df = ratings_df[ratings_df['Carrier']==carrier]\n",
        "  for asset_class in asset_classes:\n",
        "    class_df = temp_df[temp_df['Morningstar Category']==asset_class]\n",
        "    class_df['BICF'] = ['yes' if i == class_df['total_score'].max() else 'no' for i in class_df['total_score']]\n",
        "    bicf_list.append(class_df)\n",
        "    \n",
        "ratings_df = pd.concat(bicf_list)\n",
        "\n",
        "tables_list = [ms_ratings, rank_cat, total_ret, man_tenure, exp_ratio, sharpe]\n",
        "\n",
        "for table in tables_list:\n",
        "  table = table.transpose().loc[:,['MassMutual', 'Protective', 'Nationwide', 'Pacific Life', 'Lincoln']]\n",
        "\n",
        "# man_tenure = man_tenure.transpose()\n",
        "# ms_ratings = ms_ratings.transpose()\n",
        "# sharpe = sharpe.transpose()\n",
        "# exp_ratio = exp_ratio.transpose()\n",
        "# rank_cat = rank_cat.transpose()\n",
        "# total_ret = total_ret.transpose()\n",
        "\n",
        "\n",
        "#writing to excel\n",
        "xlwriter = pd.ExcelWriter('BICFR Subaccount Rankings Python Output.xlsx', engine='xlsxwriter')\n",
        "\n",
        "man_tenure.to_excel(xlwriter, sheet_name='Manager Tenure')\n",
        "ms_ratings.to_excel(xlwriter, sheet_name='Ratings')\n",
        "sharpe.to_excel(xlwriter, sheet_name='Sharpe')\n",
        "exp_ratio.to_excel(xlwriter, sheet_name='Expense Ratio')\n",
        "rank_cat.to_excel(xlwriter, sheet_name='Return Rankings')\n",
        "total_ret.to_excel(xlwriter, sheet_name='Total Return')\n",
        "\n",
        "agg_df_class.to_excel(xlwriter, sheet_name='Asset Class Breakdown')\n",
        "\n",
        "bicf_df = ratings_df[ratings_df['BICF']=='yes']\n",
        "bicf_df.set_index(['Carrier','Morningstar Category'], inplace=True)\n",
        "bicf_df.to_excel(xlwriter, sheet_name='BICFR')\n",
        "\n",
        "ratings_df.set_index(['Carrier', 'Name'], inplace=True)\n",
        "ratings_df.to_excel(xlwriter, sheet_name='All Data')\n",
        "\n",
        "empty_sheet = pd.DataFrame()\n",
        "empty_sheet.to_excel(xlwriter, sheet_name='Histogram')\n",
        "worksheet=xlwriter.sheets['Histogram']\n",
        "worksheet.insert_image('B2','Carrier Histograms.png')\n",
        "\n",
        "counter = 0\n",
        "for i in range(len(carriers_list)):\n",
        "  list(carrier_dfs.values())[i].to_excel(xlwriter, sheet_name='{}'.format(carriers_list[i]))\n",
        "\n",
        "xlwriter.save()\n",
        "\n",
        "xlwriter.close()"
      ],
      "execution_count": null,
      "outputs": []
    },
    {
      "cell_type": "code",
      "metadata": {
        "id": "GRhn9e3Utq2D"
      },
      "source": [
        "agg_df_carrier"
      ],
      "execution_count": null,
      "outputs": []
    },
    {
      "cell_type": "code",
      "metadata": {
        "id": "184g4f2JbAUf"
      },
      "source": [
        "carriers_list = ['MassMutual', 'Protective', 'Nationwide', 'Pacific Life', 'Lincoln']\n",
        "carriers_list.reverse()\n",
        "# ,\n",
        "carrier_dfs = {}\n",
        "for carrier in carriers_list:\n",
        "  df = pd.read_excel('Subaccount_Rankings_data_03062021.xlsx', sheet_name=carrier)\n",
        "  carrier_dfs[carrier] = df\n",
        " #skipfooter=13\n",
        " "
      ],
      "execution_count": null,
      "outputs": []
    },
    {
      "cell_type": "code",
      "metadata": {
        "id": "ipNCLMugbJ-q"
      },
      "source": [
        "# mnstar_ratings = []\n",
        "# for carrier, df in carrier_dfs.items():\n",
        "#   temp_df = df\n",
        "#   temp_df.insert(loc=0, column='Carrier', value=carrier)\n",
        "#   mnstar_ratings.append(temp_df)\n",
        "#   print(temp_df)\n",
        "\n",
        "# ratings_df = pd.concat(mnstar_ratings)\n",
        "\n",
        "agg_df_carrier = pd.pivot_table(ratings_df, index='Carrier', fill_value=np.nan)\n",
        "\n",
        "agg_df_carrier2 = agg_df_carrier['MassMutual', 'Protective', 'Nationwide', 'Pacific Life', 'Lincoln']\n"
      ],
      "execution_count": null,
      "outputs": []
    },
    {
      "cell_type": "code",
      "metadata": {
        "id": "iyx2vAGQfO6N"
      },
      "source": [
        "agg_df_carrier.transpose().loc[:,['MassMutual', 'Protective', 'Nationwide', 'Pacific Life', 'Lincoln']]"
      ],
      "execution_count": null,
      "outputs": []
    }
  ]
}