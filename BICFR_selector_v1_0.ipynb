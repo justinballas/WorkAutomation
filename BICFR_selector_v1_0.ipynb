{
  "nbformat": 4,
  "nbformat_minor": 0,
  "metadata": {
    "colab": {
      "name": "BICFR_selector_v1.0.ipynb",
      "provenance": [],
      "collapsed_sections": [],
      "authorship_tag": "ABX9TyNDKe6+UAWpg+ElNbMExYp0",
      "include_colab_link": true
    },
    "kernelspec": {
      "name": "python3",
      "display_name": "Python 3"
    },
    "language_info": {
      "name": "python"
    }
  },
  "cells": [
    {
      "cell_type": "markdown",
      "metadata": {
        "id": "view-in-github",
        "colab_type": "text"
      },
      "source": [
        "<a href=\"https://colab.research.google.com/github/justinballas/WorkAutomation/blob/main/BICFR_selector_v1_0.ipynb\" target=\"_parent\"><img src=\"https://colab.research.google.com/assets/colab-badge.svg\" alt=\"Open In Colab\"/></a>"
      ]
    },
    {
      "cell_type": "code",
      "metadata": {
        "id": "GHo0Z4GUoNqp"
      },
      "source": [
        "import pandas as pd\n",
        "import numpy as np\n",
        "from sklearn import preprocessing "
      ],
      "execution_count": null,
      "outputs": []
    },
    {
      "cell_type": "code",
      "metadata": {
        "id": "EBEmuPtloXGb"
      },
      "source": [
        "df = pd.read_csv('20210228_GW_PPVUL.csv', index_col='Name')\n",
        "\n",
        "#if you need to clean the fund names\n",
        "replace_list = [\"US Insurance \",\"US Fund \"]\n",
        "\n",
        "for term in replace_list:\n",
        "  df.iloc[1] = df.iloc[1].str.replace(term, \"\")\n",
        "\n",
        "\n",
        "#enter columns to use for ranking with their associated weights\n",
        "rank_and_weight = {\n",
        "    'Morningstar \\nRating \\nOverall': 1,\n",
        "    'Morningstar \\nRating \\n3 Yr': 1,\n",
        "    'Morningstar \\nRating \\n5 Yr': 1,\n",
        "    'Morningstar \\nRating \\n10 Yr': 1,\n",
        "    'Total Ret \\n% Rank Cat \\n1 Yr (Mo-End)': 1,\n",
        "    'Total Ret \\n% Rank Cat \\n3 Yr (Mo-End)': 1,\n",
        "    'Total Ret \\n% Rank Cat \\n5 Yr (Mo-End)': 1,\n",
        "    'Total Ret \\n% Rank Cat \\n10 Yr (Mo-End)': 1,\n",
        "    'Sharpe Ratio \\n3 Yr (Mo-End) \\nRisk \\nCurrency': 1,\n",
        "    'Manager \\nTenure \\n(Average)': 1\n",
        "}\n",
        "\n",
        "#Return all selected metrics [y/n]?\n",
        "#n for only selected fund and asset class\n",
        "return_ans = 'n'\n",
        "\n",
        "#name of excel file when exported\n",
        "file_name = 'Best_in_class_selections'\n",
        "\n",
        "columns = list(rank_and_weight.keys())\n",
        "category_col = df['Morningstar Category']\n",
        "\n",
        "#selecting columns to scale\n",
        "df2 = df.loc[:, columns]\n",
        "x=df2.values\n",
        "\n",
        "#scaling selected colums\n",
        "min_max_scaler = preprocessing.MinMaxScaler(feature_range =(0, 1)) \n",
        "new_df = min_max_scaler.fit_transform(x)\n",
        "scaled_df = pd.DataFrame(new_df, index=df.index, columns=list(rank_and_weight.keys()))\n",
        "\n",
        "#applying weight and reversing weight of \"lower is better\" columns\n",
        "for k, v in rank_and_weight.items():\n",
        "  if 'Rank Cat' in k:\n",
        "    scaled_df[k] = scaled_df[k].apply(lambda x: (1-x)*v)\n",
        "  else:\n",
        "    scaled_df[k] = scaled_df[k].apply(lambda x: x*v)\n",
        "\n",
        "#calculating overall score\n",
        "scaled_df['Overall Score'] = scaled_df.sum(axis=1)\n",
        "\n",
        "#ranking overall score\n",
        "scaled_df['Overall Rank'] = scaled_df['Overall Score'].rank(ascending=True)\n",
        "\n",
        "#adding back morningstar categories\n",
        "scaled_df['Morningstar Category'] = category_col\n",
        "\n",
        "#creating list of asset classes to iterate over\n",
        "asset_classes = list(category_col.unique())\n",
        "\n",
        "#getting highest ranked fund per asset class\n",
        "max_asset_classes = {}\n",
        "for asset_class in asset_classes:\n",
        "  class_df = scaled_df[scaled_df['Morningstar Category']==asset_class]\n",
        "  bicf = class_df['Overall Rank'].idxmax()\n",
        "  max_asset_classes[asset_class] = bicf\n",
        "\n",
        "#creating dataframe and naming excel file\n",
        "if return_ans =='y':\n",
        "  export_df = df.loc[list(max_asset_classes.values())]\n",
        "else:\n",
        "  export_df = pd.DataFrame.from_dict(max_asset_classes, orient='index')\n",
        "\n",
        "#exporting to excel\n",
        "#export_df.to_excel(file_name + '.xlsx')\n",
        "\n",
        "export_df"
      ],
      "execution_count": null,
      "outputs": []
    },
    {
      "cell_type": "code",
      "metadata": {
        "id": "yQ26D3TT4MWe"
      },
      "source": [
        "#df.loc[list(max_asset_classes.values())]"
      ],
      "execution_count": null,
      "outputs": []
    }
  ]
}